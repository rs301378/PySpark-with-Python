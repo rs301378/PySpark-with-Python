{
 "cells": [
  {
   "cell_type": "markdown",
   "id": "89844717",
   "metadata": {},
   "source": [
    "-----------------------------------------------------\n",
    "Created on: 30-08-2022                              \n",
    "Author: Rohit Sharma                                \n",
    "                                                     \n",
    "-----------------------------------------------------\n",
    "\n",
    "# PySpark Handling Missing Values\n",
    "* Filter Operation\n",
    "* &,|,==\n",
    "* ~"
   ]
  },
  {
   "cell_type": "code",
   "execution_count": 1,
   "id": "2ebf380f",
   "metadata": {},
   "outputs": [],
   "source": [
    "from pyspark.sql import SparkSession"
   ]
  },
  {
   "cell_type": "code",
   "execution_count": 2,
   "id": "d02ff474",
   "metadata": {},
   "outputs": [],
   "source": [
    "spark = SparkSession.builder.appName(\"Practice\").getOrCreate()"
   ]
  },
  {
   "cell_type": "code",
   "execution_count": 4,
   "id": "b7fcc9bd",
   "metadata": {},
   "outputs": [],
   "source": [
    "df_spark = spark.read.csv(\"test3.csv\",header=True, inferSchema=True)"
   ]
  },
  {
   "cell_type": "code",
   "execution_count": 5,
   "id": "e79edd8f",
   "metadata": {},
   "outputs": [
    {
     "name": "stdout",
     "output_type": "stream",
     "text": [
      "+-------+---+----------+------+\n",
      "|   Name|Age|Experience|Salary|\n",
      "+-------+---+----------+------+\n",
      "|    Ram| 28|         1| 10000|\n",
      "|  Rohan| 27|         3| 30000|\n",
      "|  Mohan| 25|         4| 40000|\n",
      "|    Raj| 20|         2| 20000|\n",
      "|   Neha| 24|         2| 20000|\n",
      "|Prateek| 23|         5| 50000|\n",
      "|  Mukul| 26|         3| 30000|\n",
      "+-------+---+----------+------+\n",
      "\n"
     ]
    }
   ],
   "source": [
    "df_spark.show()"
   ]
  },
  {
   "cell_type": "markdown",
   "id": "3fbfb5e6",
   "metadata": {},
   "source": [
    "# Filter operations"
   ]
  },
  {
   "cell_type": "code",
   "execution_count": 6,
   "id": "dd40f63a",
   "metadata": {},
   "outputs": [
    {
     "name": "stdout",
     "output_type": "stream",
     "text": [
      "+----+---+----------+------+\n",
      "|Name|Age|Experience|Salary|\n",
      "+----+---+----------+------+\n",
      "| Ram| 28|         1| 10000|\n",
      "| Raj| 20|         2| 20000|\n",
      "|Neha| 24|         2| 20000|\n",
      "+----+---+----------+------+\n",
      "\n"
     ]
    }
   ],
   "source": [
    "# Salary of the people less than or equal to 20000\n",
    "df_spark.filter(\"Salary<=20000\").show()"
   ]
  },
  {
   "cell_type": "code",
   "execution_count": 8,
   "id": "a8e7082b",
   "metadata": {},
   "outputs": [
    {
     "name": "stdout",
     "output_type": "stream",
     "text": [
      "+----+---+\n",
      "|Name|Age|\n",
      "+----+---+\n",
      "| Ram| 28|\n",
      "| Raj| 20|\n",
      "|Neha| 24|\n",
      "+----+---+\n",
      "\n"
     ]
    }
   ],
   "source": [
    "df_spark.filter(\"Salary<=20000\").select(['Name', 'Age']).show()"
   ]
  },
  {
   "cell_type": "code",
   "execution_count": 9,
   "id": "3046ea13",
   "metadata": {},
   "outputs": [
    {
     "name": "stdout",
     "output_type": "stream",
     "text": [
      "+----+---+----------+------+\n",
      "|Name|Age|Experience|Salary|\n",
      "+----+---+----------+------+\n",
      "| Ram| 28|         1| 10000|\n",
      "| Raj| 20|         2| 20000|\n",
      "|Neha| 24|         2| 20000|\n",
      "+----+---+----------+------+\n",
      "\n"
     ]
    }
   ],
   "source": [
    "df_spark.filter(df_spark['Salary']<=20000).show()"
   ]
  },
  {
   "cell_type": "code",
   "execution_count": 11,
   "id": "3dff11a0",
   "metadata": {},
   "outputs": [
    {
     "name": "stdout",
     "output_type": "stream",
     "text": [
      "+-------+---+----------+------+\n",
      "|   Name|Age|Experience|Salary|\n",
      "+-------+---+----------+------+\n",
      "|    Ram| 28|         1| 10000|\n",
      "|  Rohan| 27|         3| 30000|\n",
      "|  Mohan| 25|         4| 40000|\n",
      "|    Raj| 20|         2| 20000|\n",
      "|   Neha| 24|         2| 20000|\n",
      "|Prateek| 23|         5| 50000|\n",
      "|  Mukul| 26|         3| 30000|\n",
      "+-------+---+----------+------+\n",
      "\n"
     ]
    }
   ],
   "source": [
    "df_spark.filter((df_spark['Salary']<=20000) | \n",
    "                (df_spark['Salary']>=15000)).show()"
   ]
  },
  {
   "cell_type": "code",
   "execution_count": 12,
   "id": "eaebf1ba",
   "metadata": {},
   "outputs": [
    {
     "name": "stdout",
     "output_type": "stream",
     "text": [
      "+-------+---+----------+------+\n",
      "|   Name|Age|Experience|Salary|\n",
      "+-------+---+----------+------+\n",
      "|  Rohan| 27|         3| 30000|\n",
      "|  Mohan| 25|         4| 40000|\n",
      "|Prateek| 23|         5| 50000|\n",
      "|  Mukul| 26|         3| 30000|\n",
      "+-------+---+----------+------+\n",
      "\n"
     ]
    }
   ],
   "source": [
    "#inverse condition operation\n",
    "df_spark.filter(~(df_spark['Salary']<=20000)).show()"
   ]
  }
 ],
 "metadata": {
  "kernelspec": {
   "display_name": "Python 3 (ipykernel)",
   "language": "python",
   "name": "python3"
  },
  "language_info": {
   "codemirror_mode": {
    "name": "ipython",
    "version": 3
   },
   "file_extension": ".py",
   "mimetype": "text/x-python",
   "name": "python",
   "nbconvert_exporter": "python",
   "pygments_lexer": "ipython3",
   "version": "3.9.6"
  }
 },
 "nbformat": 4,
 "nbformat_minor": 5
}
