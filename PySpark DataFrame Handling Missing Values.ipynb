{
 "cells": [
  {
   "cell_type": "markdown",
   "id": "4541b66d",
   "metadata": {},
   "source": [
    "-----------------------------------------------------\n",
    "Created on: 30-08-2022                              \n",
    "Author: Rohit Sharma                                \n",
    "                                                     \n",
    "-----------------------------------------------------\n",
    "\n",
    "# PySpark Handling Missing Values\n",
    "* Dropping cloumns\n",
    "* Dropping rows\n",
    "* Various paramter in dropping functionalities\n",
    "* Handling Missing values by Mean, Median and Mode\n",
    "  "
   ]
  },
  {
   "cell_type": "code",
   "execution_count": 1,
   "id": "707fe6a1",
   "metadata": {},
   "outputs": [],
   "source": [
    "from pyspark.sql import SparkSession"
   ]
  },
  {
   "cell_type": "code",
   "execution_count": 2,
   "id": "0f1721da",
   "metadata": {},
   "outputs": [],
   "source": [
    "spark = SparkSession.builder.appName(\"Practice\").getOrCreate()"
   ]
  },
  {
   "cell_type": "code",
   "execution_count": 3,
   "id": "9930c98f",
   "metadata": {},
   "outputs": [],
   "source": [
    "df_spark = spark.read.csv(\"test2.csv\", header=True, inferSchema=True)"
   ]
  },
  {
   "cell_type": "code",
   "execution_count": 4,
   "id": "87f8dd62",
   "metadata": {},
   "outputs": [
    {
     "name": "stdout",
     "output_type": "stream",
     "text": [
      "+-------+----+----------+------+\n",
      "|   Name| Age|Experience|Salary|\n",
      "+-------+----+----------+------+\n",
      "|    Ram|  28|         1| 10000|\n",
      "|  Rohan|  27|         3| 30000|\n",
      "|  Mohan|  25|         4| 40000|\n",
      "|    Raj|  20|         2| 20000|\n",
      "|   Neha|  24|         2| 20000|\n",
      "|Prateek|  23|         5| 50000|\n",
      "|  Mukul|  26|         3| 30000|\n",
      "|  Disha|null|      null| 50000|\n",
      "|  Namit|  27|         6| 60000|\n",
      "|   null|  34|      null|  null|\n",
      "|   null|  36|        10|  null|\n",
      "+-------+----+----------+------+\n",
      "\n"
     ]
    }
   ],
   "source": [
    "df_spark.show()"
   ]
  },
  {
   "cell_type": "code",
   "execution_count": 6,
   "id": "181b6743",
   "metadata": {},
   "outputs": [
    {
     "name": "stdout",
     "output_type": "stream",
     "text": [
      "+----+----------+------+\n",
      "| Age|Experience|Salary|\n",
      "+----+----------+------+\n",
      "|  28|         1| 10000|\n",
      "|  27|         3| 30000|\n",
      "|  25|         4| 40000|\n",
      "|  20|         2| 20000|\n",
      "|  24|         2| 20000|\n",
      "|  23|         5| 50000|\n",
      "|  26|         3| 30000|\n",
      "|null|      null| 50000|\n",
      "|  27|         6| 60000|\n",
      "|  34|      null|  null|\n",
      "|  36|        10|  null|\n",
      "+----+----------+------+\n",
      "\n"
     ]
    }
   ],
   "source": [
    "# Drop columns\n",
    "df_spark.drop(\"Name\").show()"
   ]
  },
  {
   "cell_type": "code",
   "execution_count": 7,
   "id": "a7cd2042",
   "metadata": {},
   "outputs": [
    {
     "name": "stdout",
     "output_type": "stream",
     "text": [
      "+-------+----+----------+------+\n",
      "|   Name| Age|Experience|Salary|\n",
      "+-------+----+----------+------+\n",
      "|    Ram|  28|         1| 10000|\n",
      "|  Rohan|  27|         3| 30000|\n",
      "|  Mohan|  25|         4| 40000|\n",
      "|    Raj|  20|         2| 20000|\n",
      "|   Neha|  24|         2| 20000|\n",
      "|Prateek|  23|         5| 50000|\n",
      "|  Mukul|  26|         3| 30000|\n",
      "|  Disha|null|      null| 50000|\n",
      "|  Namit|  27|         6| 60000|\n",
      "|   null|  34|      null|  null|\n",
      "|   null|  36|        10|  null|\n",
      "+-------+----+----------+------+\n",
      "\n"
     ]
    }
   ],
   "source": [
    "# Drop rows\n",
    "df_spark.show()"
   ]
  },
  {
   "cell_type": "code",
   "execution_count": 8,
   "id": "f0b76e43",
   "metadata": {},
   "outputs": [
    {
     "name": "stdout",
     "output_type": "stream",
     "text": [
      "+-------+---+----------+------+\n",
      "|   Name|Age|Experience|Salary|\n",
      "+-------+---+----------+------+\n",
      "|    Ram| 28|         1| 10000|\n",
      "|  Rohan| 27|         3| 30000|\n",
      "|  Mohan| 25|         4| 40000|\n",
      "|    Raj| 20|         2| 20000|\n",
      "|   Neha| 24|         2| 20000|\n",
      "|Prateek| 23|         5| 50000|\n",
      "|  Mukul| 26|         3| 30000|\n",
      "|  Namit| 27|         6| 60000|\n",
      "+-------+---+----------+------+\n",
      "\n"
     ]
    }
   ],
   "source": [
    "df_spark.na.drop().show()"
   ]
  },
  {
   "cell_type": "code",
   "execution_count": 9,
   "id": "7f7922a6",
   "metadata": {},
   "outputs": [
    {
     "name": "stdout",
     "output_type": "stream",
     "text": [
      "+-------+---+----------+------+\n",
      "|   Name|Age|Experience|Salary|\n",
      "+-------+---+----------+------+\n",
      "|    Ram| 28|         1| 10000|\n",
      "|  Rohan| 27|         3| 30000|\n",
      "|  Mohan| 25|         4| 40000|\n",
      "|    Raj| 20|         2| 20000|\n",
      "|   Neha| 24|         2| 20000|\n",
      "|Prateek| 23|         5| 50000|\n",
      "|  Mukul| 26|         3| 30000|\n",
      "|  Namit| 27|         6| 60000|\n",
      "+-------+---+----------+------+\n",
      "\n"
     ]
    }
   ],
   "source": [
    "# any==how  or all==how\n",
    "df_spark.na.drop(how='any').show()  "
   ]
  },
  {
   "cell_type": "code",
   "execution_count": 11,
   "id": "ba1b2ebc",
   "metadata": {},
   "outputs": [
    {
     "name": "stdout",
     "output_type": "stream",
     "text": [
      "+-------+----+----------+------+\n",
      "|   Name| Age|Experience|Salary|\n",
      "+-------+----+----------+------+\n",
      "|    Ram|  28|         1| 10000|\n",
      "|  Rohan|  27|         3| 30000|\n",
      "|  Mohan|  25|         4| 40000|\n",
      "|    Raj|  20|         2| 20000|\n",
      "|   Neha|  24|         2| 20000|\n",
      "|Prateek|  23|         5| 50000|\n",
      "|  Mukul|  26|         3| 30000|\n",
      "|  Disha|null|      null| 50000|\n",
      "|  Namit|  27|         6| 60000|\n",
      "|   null|  36|        10|  null|\n",
      "+-------+----+----------+------+\n",
      "\n"
     ]
    }
   ],
   "source": [
    "# threshold\n",
    "df_spark.na.drop(how='any', thresh=2).show()"
   ]
  },
  {
   "cell_type": "code",
   "execution_count": 12,
   "id": "5a603440",
   "metadata": {},
   "outputs": [
    {
     "name": "stdout",
     "output_type": "stream",
     "text": [
      "+-------+---+----------+------+\n",
      "|   Name|Age|Experience|Salary|\n",
      "+-------+---+----------+------+\n",
      "|    Ram| 28|         1| 10000|\n",
      "|  Rohan| 27|         3| 30000|\n",
      "|  Mohan| 25|         4| 40000|\n",
      "|    Raj| 20|         2| 20000|\n",
      "|   Neha| 24|         2| 20000|\n",
      "|Prateek| 23|         5| 50000|\n",
      "|  Mukul| 26|         3| 30000|\n",
      "|  Namit| 27|         6| 60000|\n",
      "|   null| 36|        10|  null|\n",
      "+-------+---+----------+------+\n",
      "\n"
     ]
    }
   ],
   "source": [
    "# subset\n",
    "df_spark.na.drop(how='any', subset=['Experience']).show()   #drop nan values only from a specific column"
   ]
  },
  {
   "cell_type": "code",
   "execution_count": 23,
   "id": "2f9c36a7",
   "metadata": {},
   "outputs": [
    {
     "name": "stdout",
     "output_type": "stream",
     "text": [
      "+--------------+----+----------+------+\n",
      "|          Name| Age|Experience|Salary|\n",
      "+--------------+----+----------+------+\n",
      "|           Ram|  28|         1| 10000|\n",
      "|         Rohan|  27|         3| 30000|\n",
      "|         Mohan|  25|         4| 40000|\n",
      "|           Raj|  20|         2| 20000|\n",
      "|          Neha|  24|         2| 20000|\n",
      "|       Prateek|  23|         5| 50000|\n",
      "|         Mukul|  26|         3| 30000|\n",
      "|         Disha|null|      null| 50000|\n",
      "|         Namit|  27|         6| 60000|\n",
      "|Missing Values|  34|      null|  null|\n",
      "|Missing Values|  36|        10|  null|\n",
      "+--------------+----+----------+------+\n",
      "\n"
     ]
    }
   ],
   "source": [
    "# Fill the missing values\n",
    "df_spark.na.fill('Missing Values', ['Name', 'Age']).show()"
   ]
  },
  {
   "cell_type": "code",
   "execution_count": 24,
   "id": "1b2a09d2",
   "metadata": {},
   "outputs": [
    {
     "name": "stdout",
     "output_type": "stream",
     "text": [
      "+-------+----+----------+------+\n",
      "|   Name| Age|Experience|Salary|\n",
      "+-------+----+----------+------+\n",
      "|    Ram|  28|         1| 10000|\n",
      "|  Rohan|  27|         3| 30000|\n",
      "|  Mohan|  25|         4| 40000|\n",
      "|    Raj|  20|         2| 20000|\n",
      "|   Neha|  24|         2| 20000|\n",
      "|Prateek|  23|         5| 50000|\n",
      "|  Mukul|  26|         3| 30000|\n",
      "|  Disha|null|      null| 50000|\n",
      "|  Namit|  27|         6| 60000|\n",
      "|   null|  34|      null|  null|\n",
      "|   null|  36|        10|  null|\n",
      "+-------+----+----------+------+\n",
      "\n"
     ]
    }
   ],
   "source": [
    "df_spark.show()"
   ]
  },
  {
   "cell_type": "code",
   "execution_count": 31,
   "id": "60eb444a",
   "metadata": {},
   "outputs": [],
   "source": [
    "# Mean, Median, Mode\n",
    "from pyspark.ml.feature import Imputer\n",
    "\n",
    "imputer = Imputer(\n",
    "     inputCols=['Age', 'Experience', 'Salary'],\n",
    "     outputCols=[\"{}_imputed\".format(c) for c in ['Age', 'Experience', 'Salary']]).setStrategy(\"mean\") # change for median or mode"
   ]
  },
  {
   "cell_type": "code",
   "execution_count": 32,
   "id": "f8b4a6de",
   "metadata": {},
   "outputs": [
    {
     "name": "stdout",
     "output_type": "stream",
     "text": [
      "+-------+----+----------+------+-----------+------------------+--------------+\n",
      "|   Name| Age|Experience|Salary|Age_imputed|Experience_imputed|Salary_imputed|\n",
      "+-------+----+----------+------+-----------+------------------+--------------+\n",
      "|    Ram|  28|         1| 10000|         28|                 1|         10000|\n",
      "|  Rohan|  27|         3| 30000|         27|                 3|         30000|\n",
      "|  Mohan|  25|         4| 40000|         25|                 4|         40000|\n",
      "|    Raj|  20|         2| 20000|         20|                 2|         20000|\n",
      "|   Neha|  24|         2| 20000|         24|                 2|         20000|\n",
      "|Prateek|  23|         5| 50000|         23|                 5|         50000|\n",
      "|  Mukul|  26|         3| 30000|         26|                 3|         30000|\n",
      "|  Disha|null|      null| 50000|         27|                 4|         50000|\n",
      "|  Namit|  27|         6| 60000|         27|                 6|         60000|\n",
      "|   null|  34|      null|  null|         34|                 4|         34444|\n",
      "|   null|  36|        10|  null|         36|                10|         34444|\n",
      "+-------+----+----------+------+-----------+------------------+--------------+\n",
      "\n"
     ]
    }
   ],
   "source": [
    "#add imputation cols to df\n",
    "imputer.fit(df_spark).transform(df_spark).show()"
   ]
  },
  {
   "cell_type": "code",
   "execution_count": null,
   "id": "2e6740d5",
   "metadata": {},
   "outputs": [],
   "source": []
  }
 ],
 "metadata": {
  "kernelspec": {
   "display_name": "Python 3 (ipykernel)",
   "language": "python",
   "name": "python3"
  },
  "language_info": {
   "codemirror_mode": {
    "name": "ipython",
    "version": 3
   },
   "file_extension": ".py",
   "mimetype": "text/x-python",
   "name": "python",
   "nbconvert_exporter": "python",
   "pygments_lexer": "ipython3",
   "version": "3.9.6"
  }
 },
 "nbformat": 4,
 "nbformat_minor": 5
}
