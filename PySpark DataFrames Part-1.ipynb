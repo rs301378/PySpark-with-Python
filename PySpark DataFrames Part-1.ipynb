{
 "cells": [
  {
   "cell_type": "markdown",
   "id": "ac6d58bf",
   "metadata": {},
   "source": [
    "-----------------------------------------------------\n",
    "Created on: 29-08-2022                              \n",
    "Author: Rohit Sharma                                \n",
    "                                                     \n",
    "-----------------------------------------------------\n",
    "\n",
    "**In this notebook: -**\n",
    "\n",
    "* PySpark DataFrame\n",
    "* Reading the Dataset\n",
    "* Checking the datatypes of the column(schema)\n",
    "* Selecting columns and indexing\n",
    "* Check describe option similar to Pandas\n",
    "* Adding columns\n",
    "* Dropping columns\n",
    "* Renaming columns"
   ]
  },
  {
   "cell_type": "code",
   "execution_count": 1,
   "id": "ebd48669",
   "metadata": {},
   "outputs": [],
   "source": [
    "from pyspark.sql import SparkSession"
   ]
  },
  {
   "cell_type": "code",
   "execution_count": 2,
   "id": "01af7015",
   "metadata": {},
   "outputs": [],
   "source": [
    "spark = SparkSession.builder.appName(\"DataFrame\").getOrCreate()"
   ]
  },
  {
   "cell_type": "code",
   "execution_count": 3,
   "id": "5995adce",
   "metadata": {},
   "outputs": [
    {
     "data": {
      "text/html": [
       "\n",
       "            <div>\n",
       "                <p><b>SparkSession - in-memory</b></p>\n",
       "                \n",
       "        <div>\n",
       "            <p><b>SparkContext</b></p>\n",
       "\n",
       "            <p><a href=\"http://ROHIT:4040\">Spark UI</a></p>\n",
       "\n",
       "            <dl>\n",
       "              <dt>Version</dt>\n",
       "                <dd><code>v3.3.0</code></dd>\n",
       "              <dt>Master</dt>\n",
       "                <dd><code>local[*]</code></dd>\n",
       "              <dt>AppName</dt>\n",
       "                <dd><code>DataFrame</code></dd>\n",
       "            </dl>\n",
       "        </div>\n",
       "        \n",
       "            </div>\n",
       "        "
      ],
      "text/plain": [
       "<pyspark.sql.session.SparkSession at 0x1e8f07d6df0>"
      ]
     },
     "execution_count": 3,
     "metadata": {},
     "output_type": "execute_result"
    }
   ],
   "source": [
    "spark"
   ]
  },
  {
   "cell_type": "code",
   "execution_count": 9,
   "id": "f5b2cef7",
   "metadata": {},
   "outputs": [],
   "source": [
    "# Read the dataset\n",
    "df_pyspark = spark.read.option('header','true').csv('test1.csv', inferSchema=True)  #inferSchema is used to show right datatype of columns"
   ]
  },
  {
   "cell_type": "code",
   "execution_count": 10,
   "id": "2a2ed618",
   "metadata": {},
   "outputs": [
    {
     "name": "stdout",
     "output_type": "stream",
     "text": [
      "root\n",
      " |-- Name: string (nullable = true)\n",
      " |-- Age: integer (nullable = true)\n",
      " |-- Experience: integer (nullable = true)\n",
      "\n"
     ]
    }
   ],
   "source": [
    "# Check the schema(datatype)\n",
    "df_pyspark.printSchema()"
   ]
  },
  {
   "cell_type": "code",
   "execution_count": 11,
   "id": "ad17ff07",
   "metadata": {},
   "outputs": [
    {
     "name": "stdout",
     "output_type": "stream",
     "text": [
      "+-------+---+----------+\n",
      "|   Name|Age|Experience|\n",
      "+-------+---+----------+\n",
      "|    Ram| 28|         1|\n",
      "|  Rohan| 27|         3|\n",
      "|  Mohan| 25|         4|\n",
      "|    Raj| 20|         2|\n",
      "|   Neha| 24|         2|\n",
      "|Prateek| 23|         5|\n",
      "|  Mukul| 26|         3|\n",
      "|  Disha| 26|         5|\n",
      "|  Namit| 27|         6|\n",
      "+-------+---+----------+\n",
      "\n"
     ]
    }
   ],
   "source": [
    "#another way to read the data\n",
    "df_pyspark = spark.read.csv('test1.csv', header=True, inferSchema=True)\n",
    "df_pyspark.show()"
   ]
  },
  {
   "cell_type": "code",
   "execution_count": 12,
   "id": "1eb8ee7d",
   "metadata": {},
   "outputs": [
    {
     "data": {
      "text/plain": [
       "pyspark.sql.dataframe.DataFrame"
      ]
     },
     "execution_count": 12,
     "metadata": {},
     "output_type": "execute_result"
    }
   ],
   "source": [
    "# check type of df_pyspark\n",
    "# What is dataframe? --> Dataframe is a data structure.\n",
    "type(df_pyspark)"
   ]
  },
  {
   "cell_type": "code",
   "execution_count": 13,
   "id": "b1158f7e",
   "metadata": {},
   "outputs": [
    {
     "data": {
      "text/plain": [
       "['Name', 'Age', 'Experience']"
      ]
     },
     "execution_count": 13,
     "metadata": {},
     "output_type": "execute_result"
    }
   ],
   "source": [
    "# Selecting columns and indexing\n",
    "df_pyspark.columns"
   ]
  },
  {
   "cell_type": "code",
   "execution_count": 14,
   "id": "5877ae22",
   "metadata": {},
   "outputs": [
    {
     "data": {
      "text/plain": [
       "[Row(Name='Ram', Age=28, Experience=1),\n",
       " Row(Name='Rohan', Age=27, Experience=3),\n",
       " Row(Name='Mohan', Age=25, Experience=4)]"
      ]
     },
     "execution_count": 14,
     "metadata": {},
     "output_type": "execute_result"
    }
   ],
   "source": [
    "df_pyspark.head(3)"
   ]
  },
  {
   "cell_type": "code",
   "execution_count": 17,
   "id": "e8324fa1",
   "metadata": {},
   "outputs": [
    {
     "name": "stdout",
     "output_type": "stream",
     "text": [
      "+-------+\n",
      "|   Name|\n",
      "+-------+\n",
      "|    Ram|\n",
      "|  Rohan|\n",
      "|  Mohan|\n",
      "|    Raj|\n",
      "|   Neha|\n",
      "|Prateek|\n",
      "|  Mukul|\n",
      "|  Disha|\n",
      "|  Namit|\n",
      "+-------+\n",
      "\n"
     ]
    }
   ],
   "source": [
    "#Select a particular column\n",
    "df_pyspark.select(\"Name\").show()"
   ]
  },
  {
   "cell_type": "code",
   "execution_count": 18,
   "id": "b1f9ddd9",
   "metadata": {},
   "outputs": [
    {
     "name": "stdout",
     "output_type": "stream",
     "text": [
      "+-------+----------+\n",
      "|   Name|Experience|\n",
      "+-------+----------+\n",
      "|    Ram|         1|\n",
      "|  Rohan|         3|\n",
      "|  Mohan|         4|\n",
      "|    Raj|         2|\n",
      "|   Neha|         2|\n",
      "|Prateek|         5|\n",
      "|  Mukul|         3|\n",
      "|  Disha|         5|\n",
      "|  Namit|         6|\n",
      "+-------+----------+\n",
      "\n"
     ]
    }
   ],
   "source": [
    "#select two columns\n",
    "df_pyspark.select(['Name', 'Experience']).show()"
   ]
  },
  {
   "cell_type": "code",
   "execution_count": 19,
   "id": "95cc1c10",
   "metadata": {},
   "outputs": [
    {
     "data": {
      "text/plain": [
       "[('Name', 'string'), ('Age', 'int'), ('Experience', 'int')]"
      ]
     },
     "execution_count": 19,
     "metadata": {},
     "output_type": "execute_result"
    }
   ],
   "source": [
    "#check data types\n",
    "df_pyspark.dtypes"
   ]
  },
  {
   "cell_type": "code",
   "execution_count": 21,
   "id": "31a59988",
   "metadata": {},
   "outputs": [
    {
     "name": "stdout",
     "output_type": "stream",
     "text": [
      "+-------+-----+-----------------+------------------+\n",
      "|summary| Name|              Age|        Experience|\n",
      "+-------+-----+-----------------+------------------+\n",
      "|  count|    9|                9|                 9|\n",
      "|   mean| null|25.11111111111111|3.4444444444444446|\n",
      "| stddev| null|2.472066162365221| 1.666666666666667|\n",
      "|    min|Disha|               20|                 1|\n",
      "|    max|Rohan|               28|                 6|\n",
      "+-------+-----+-----------------+------------------+\n",
      "\n"
     ]
    }
   ],
   "source": [
    "#Describe option\n",
    "df_pyspark.describe().show()"
   ]
  },
  {
   "cell_type": "code",
   "execution_count": 23,
   "id": "6af27f57",
   "metadata": {},
   "outputs": [
    {
     "name": "stdout",
     "output_type": "stream",
     "text": [
      "+-------+---+----------+------------------------+\n",
      "|   Name|Age|Experience|Experience After 2 years|\n",
      "+-------+---+----------+------------------------+\n",
      "|    Ram| 28|         1|                       3|\n",
      "|  Rohan| 27|         3|                       5|\n",
      "|  Mohan| 25|         4|                       6|\n",
      "|    Raj| 20|         2|                       4|\n",
      "|   Neha| 24|         2|                       4|\n",
      "|Prateek| 23|         5|                       7|\n",
      "|  Mukul| 26|         3|                       5|\n",
      "|  Disha| 26|         5|                       7|\n",
      "|  Namit| 27|         6|                       8|\n",
      "+-------+---+----------+------------------------+\n",
      "\n"
     ]
    }
   ],
   "source": [
    "#adding columns in dataframes\n",
    "df_pyspark.withColumn('Experience After 2 years', df_pyspark['Experience']+2).show()"
   ]
  },
  {
   "cell_type": "code",
   "execution_count": 24,
   "id": "de771578",
   "metadata": {},
   "outputs": [],
   "source": [
    "# Drop the columns \n",
    "d = df_pyspark.drop(\"Experience After 2 years\")"
   ]
  },
  {
   "cell_type": "code",
   "execution_count": 25,
   "id": "1db8a177",
   "metadata": {},
   "outputs": [
    {
     "name": "stdout",
     "output_type": "stream",
     "text": [
      "+-------+---+----------+\n",
      "|   Name|Age|Experience|\n",
      "+-------+---+----------+\n",
      "|    Ram| 28|         1|\n",
      "|  Rohan| 27|         3|\n",
      "|  Mohan| 25|         4|\n",
      "|    Raj| 20|         2|\n",
      "|   Neha| 24|         2|\n",
      "|Prateek| 23|         5|\n",
      "|  Mukul| 26|         3|\n",
      "|  Disha| 26|         5|\n",
      "|  Namit| 27|         6|\n",
      "+-------+---+----------+\n",
      "\n"
     ]
    }
   ],
   "source": [
    "d.show()"
   ]
  },
  {
   "cell_type": "code",
   "execution_count": 26,
   "id": "8dea9b08",
   "metadata": {},
   "outputs": [],
   "source": [
    "#Rename the columns\n",
    "n = df_pyspark.withColumnRenamed('Name', 'New Name')"
   ]
  },
  {
   "cell_type": "code",
   "execution_count": 27,
   "id": "d33e8a45",
   "metadata": {},
   "outputs": [
    {
     "name": "stdout",
     "output_type": "stream",
     "text": [
      "+--------+---+----------+\n",
      "|New Name|Age|Experience|\n",
      "+--------+---+----------+\n",
      "|     Ram| 28|         1|\n",
      "|   Rohan| 27|         3|\n",
      "|   Mohan| 25|         4|\n",
      "|     Raj| 20|         2|\n",
      "|    Neha| 24|         2|\n",
      "| Prateek| 23|         5|\n",
      "|   Mukul| 26|         3|\n",
      "|   Disha| 26|         5|\n",
      "|   Namit| 27|         6|\n",
      "+--------+---+----------+\n",
      "\n"
     ]
    }
   ],
   "source": [
    "n.show()"
   ]
  }
 ],
 "metadata": {
  "kernelspec": {
   "display_name": "Python 3 (ipykernel)",
   "language": "python",
   "name": "python3"
  },
  "language_info": {
   "codemirror_mode": {
    "name": "ipython",
    "version": 3
   },
   "file_extension": ".py",
   "mimetype": "text/x-python",
   "name": "python",
   "nbconvert_exporter": "python",
   "pygments_lexer": "ipython3",
   "version": "3.9.6"
  }
 },
 "nbformat": 4,
 "nbformat_minor": 5
}
